{
 "cells": [
  {
   "cell_type": "markdown",
   "id": "fb571ab9",
   "metadata": {},
   "source": [
    "# Função Quadrática\n",
    "\n",
    "Este notebook permite explorar o comportamento da função do segundo grau $f(x) = ax^2 + bx + c$ ajustando os coeficientes."
   ]
  },
  {
   "cell_type": "code",
   "execution_count": null,
   "id": "c0624ba4",
   "metadata": {},
   "outputs": [],
   "source": [
    "import numpy as np\n",
    "import matplotlib.pyplot as plt\n",
    "\n",
    "# Coeficientes da função quadrática\n",
    "a = 1\n",
    "b = -3\n",
    "c = 2\n",
    "\n",
    "# Domínio\n",
    "x = np.linspace(-10, 10, 400)\n",
    "y = a * x**2 + b * x + c\n",
    "\n",
    "# Gráfico\n",
    "plt.figure(figsize=(8,5))\n",
    "plt.plot(x, y, label=f\"f(x) = {a}x² + {b}x + {c}\", color='blue')\n",
    "plt.axhline(0, color='black', lw=1)\n",
    "plt.axvline(0, color='black', lw=1)\n",
    "plt.title(\"Gráfico da função quadrática\")\n",
    "plt.xlabel(\"x\")\n",
    "plt.ylabel(\"f(x)\")\n",
    "plt.grid(True)\n",
    "plt.legend()\n",
    "plt.show()"
   ]
  }
 ],
 "metadata": {
  "kernelspec": {
   "display_name": "Python 3 (ipykernel)",
   "language": "python",
   "name": "python3"
  },
  "language_info": {
   "codemirror_mode": {
    "name": "ipython",
    "version": 3
   },
   "file_extension": ".py",
   "mimetype": "text/x-python",
   "name": "python",
   "nbconvert_exporter": "python",
   "pygments_lexer": "ipython3",
   "version": "3.10.17"
  }
 },
 "nbformat": 4,
 "nbformat_minor": 5
}
